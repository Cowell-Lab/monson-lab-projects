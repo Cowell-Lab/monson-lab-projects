{
 "cells": [
  {
   "cell_type": "markdown",
   "metadata": {},
   "source": [
    "# Imports"
   ]
  },
  {
   "cell_type": "code",
   "execution_count": 1,
   "metadata": {},
   "outputs": [],
   "source": [
    "import pandas as pd\n",
    "import numpy as np\n",
    "import copy\n",
    "import scanpy as sc"
   ]
  },
  {
   "cell_type": "markdown",
   "metadata": {},
   "source": [
    "# Read in Data"
   ]
  },
  {
   "cell_type": "code",
   "execution_count": 33,
   "metadata": {},
   "outputs": [
    {
     "data": {
      "text/plain": [
       "(16896, 38607)"
      ]
     },
     "execution_count": 33,
     "metadata": {},
     "output_type": "execute_result"
    }
   ],
   "source": [
    "# read in vdj info, make easily searchable\n",
    "vdj = pd.read_csv('../../projects/2024_11_20_10X11_14234_0/out/outs/per_sample_outs/2024_11_20_10X11_14234_0_multi/vdj_b/filtered_contig_annotations.csv')\n",
    "\n",
    "for i in range(len(vdj['v_gene'])):\n",
    "    ig = vdj['v_gene'][i][2:]\n",
    "    chain = ig[0]\n",
    "    family = ig[2]\n",
    "    # gene = ig.split('-')[1]\n",
    "    \n",
    "    vdj.loc[i, 'chain'] = chain\n",
    "    vdj.loc[i, 'family'] = family\n",
    "    # vdj.loc[i, 'gene'] = gene\n",
    "\n",
    "# read in mtx data from gex analysis\n",
    "mat = sc.read_10x_mtx('../../projects/2024_11_20_10X11_14234_0/out/outs/per_sample_outs/2024_11_20_10X11_14234_0_multi/count/sample_filtered_feature_bc_matrix')\n",
    "gex = mat.to_df()\n",
    "gex = gex.reset_index(names='cell_id')\n",
    "gex.shape\n"
   ]
  },
  {
   "cell_type": "code",
   "execution_count": 43,
   "metadata": {},
   "outputs": [
    {
     "data": {
      "text/plain": [
       "23266"
      ]
     },
     "execution_count": 43,
     "metadata": {},
     "output_type": "execute_result"
    }
   ],
   "source": [
    "len(vdj)"
   ]
  },
  {
   "cell_type": "code",
   "execution_count": 42,
   "metadata": {},
   "outputs": [
    {
     "data": {
      "text/plain": [
       "12168"
      ]
     },
     "execution_count": 42,
     "metadata": {},
     "output_type": "execute_result"
    }
   ],
   "source": [
    "len(vdj.barcode.unique())"
   ]
  },
  {
   "cell_type": "code",
   "execution_count": 57,
   "metadata": {},
   "outputs": [
    {
     "data": {
      "text/plain": [
       "12168"
      ]
     },
     "execution_count": 57,
     "metadata": {},
     "output_type": "execute_result"
    }
   ],
   "source": [
    "sum([gex.loc[i,'cell_id'] in set(vdj.barcode) for i in range(len(gex))])"
   ]
  },
  {
   "cell_type": "markdown",
   "metadata": {},
   "source": [
    "# Functions"
   ]
  },
  {
   "cell_type": "code",
   "execution_count": 36,
   "metadata": {},
   "outputs": [],
   "source": [
    "# create cell selection function\n",
    "def select_cells(chain, family, vdj=vdj, gex=gex):\n",
    "    '''\n",
    "    Selects the intersction between airr and gex when using chain and family from vdj\n",
    "    '''\n",
    "    # vdj_filtered = vdj[(vdj[vdj['chain']==chain]) & (vdj['family']==family)]\n",
    "    vdj_chain = vdj[vdj['chain']==chain]\n",
    "    vdj_fam = vdj_chain[vdj_chain['family'] == family]\n",
    "    intersection = vdj_fam.merge(gex, how='inner', left_on='barcode', right_on='cell_id')\n",
    "    return intersection\n",
    "\n",
    "def select_gene(df, gene):\n",
    "    '''\n",
    "    Provide a gene, receive tuple with negatives or positivies. \n",
    "    tuple[0] == false, tuple[1] == true\n",
    "    '''\n",
    "    neg = df[df[gene]==0]\n",
    "    pos = df[df[gene]>0]\n",
    "\n",
    "    return (neg, pos)\n",
    "\n",
    "def compare(gene, type1='IGHV3', type2='IGHV4'):\n",
    "\n",
    "    print(f'Selecting {type1} cells...')\n",
    "    cells1 = select_cells(type1[2], type1[4])\n",
    "    print(f'Selecting {type2} cells...')\n",
    "    cells2 = select_cells(type2[2], type2[4])\n",
    "\n",
    "    print(f'Selecting for {gene} in {type1} cells...')\n",
    "    selected1 = select_gene(cells1, gene)\n",
    "    print(f'Selecting for {gene} in {type2} cells...')\n",
    "    selected2 = select_gene(cells2, gene)\n",
    "\n",
    "    print('='*26)\n",
    "    print(f'{gene:<8} {\"+\":<8} {\"-\":<8}')\n",
    "    print('-'*26)\n",
    "    print(f'{type1:<8} {len(selected1[1]):<8} {len(selected1[0]):<8}')\n",
    "    print(f'{type2:<8} {len(selected2[1]):<8} {len(selected2[0]):<8}\\n')\n",
    "    print('='*26+'\\n')\n",
    "\n",
    "def compare_selected(gene, cells1, cells2):\n",
    "    selected1 = print(f'Selecting for {gene}...')\n",
    "    selected1 = select_gene(cells1, gene)\n",
    "    selected2 = select_gene(cells2, gene)\n",
    "\n",
    "    name1 = 'IG'+cells1['chain'][0]+'V'+cells1['family'][0]\n",
    "    name2 = 'IG'+cells2['chain'][0]+'V'+cells2['family'][0]\n",
    "\n",
    "    print('='*26)\n",
    "    print(f'{gene:<8} {\"+\":<8} {\"-\":<8}')\n",
    "    print('-'*26)\n",
    "    print(f'{name1:<8} {len(selected1[1]):<8} {len(selected1[0]):<8}')\n",
    "    print(f'{name2:<8} {len(selected2[1]):<8} {len(selected2[0]):<8}')\n",
    "    print('='*26+'\\n')\n",
    "\n",
    "def create_clusters(group_name, genes, cells, filename='local'):\n",
    "    '''\n",
    "    Creates clusters for loupe browser with list of genes, but on ighv3 and ighv4\n",
    "    '''\n",
    "    if filename == 'local':\n",
    "        filename = '&'.join(group_name.split('/'))+'.csv'\n",
    "    genes = ['XBP1', 'LILRB1']\n",
    "\n",
    "    out = pd.DataFrame()\n",
    "    out['Barcode'] = pd.concat([ighv3, ighv4], ignore_index=True)['cell_id']\n",
    "    out[group_name] = ['negative']*len(out['Barcode'])\n",
    "    out = out.drop_duplicates(ignore_index=True)\n",
    "    # out.head()\n",
    "    for gene in genes:\n",
    "        gene_and_cells = [select_gene(cell, gene) for cell in cells]\n",
    "        # h3gene = select_gene(ighv3, gene)\n",
    "        # h4gene = select_gene(ighv4, gene)\n",
    "        bothgenepos = pd.concat([e[1] for e in gene_and_cells], ignore_index=True)\n",
    "        \n",
    "        for i in range(len(out)):\n",
    "            if out.loc[i,'Barcode'] in bothgenepos['cell_id'].values:\n",
    "                if out.loc[i,group_name] != 'negative':\n",
    "                    out.loc[i,group_name] = out.loc[i,group_name] + '/' + gene\n",
    "                else:\n",
    "                    out.loc[i,group_name] = gene\n",
    "\n",
    "    out.to_csv(filename, index=False)"
   ]
  },
  {
   "cell_type": "markdown",
   "metadata": {},
   "source": [
    "# Testing"
   ]
  },
  {
   "cell_type": "code",
   "execution_count": 4,
   "metadata": {},
   "outputs": [],
   "source": [
    "ighv3 = select_cells('H', '3')\n",
    "ighv4 = select_cells('H', '4')"
   ]
  },
  {
   "cell_type": "code",
   "execution_count": 6,
   "metadata": {},
   "outputs": [
    {
     "name": "stdout",
     "output_type": "stream",
     "text": [
      "Selecting IGHV3 cells...\n",
      "Selecting IGHV4 cells...\n",
      "Selecting for IRF4 in IGHV3 cells...\n",
      "Selecting for IRF4 in IGHV4 cells...\n",
      "\n",
      "IRF4     +        -       \n",
      "--------------------------\n",
      "IGHV3    404      4345    \n",
      "IGHV4    586      3840    \n"
     ]
    }
   ],
   "source": [
    "# ighv3 = select_cells('H', '3')\n",
    "# ighv4 = select_cells('H', '4')\n",
    "\n",
    "# irf4 = select_gene(ighv4, 'IRF4')\n",
    "# print(len(irf4[1]), len(irf4[0]), len(irf4[1]) + len(irf4[0]))\n",
    "\n",
    "compare('IRF4')\n"
   ]
  },
  {
   "cell_type": "markdown",
   "metadata": {},
   "source": [
    "### Plasmablast\n",
    "Positive marker indicates plasmablast"
   ]
  },
  {
   "cell_type": "code",
   "execution_count": 19,
   "metadata": {},
   "outputs": [
    {
     "name": "stdout",
     "output_type": "stream",
     "text": [
      "Selecting for IRF4...\n",
      "--------------------------\n",
      "IRF4     +        -       \n",
      "==========================\n",
      "IGHV3    404      4345    \n",
      "IGHV4    586      3840    \n",
      "--------------------------\n",
      "\n",
      "Selecting for XBP1...\n",
      "--------------------------\n",
      "XBP1     +        -       \n",
      "==========================\n",
      "IGHV3    732      4017    \n",
      "IGHV4    705      3721    \n",
      "--------------------------\n",
      "\n"
     ]
    }
   ],
   "source": [
    "# Better marker for plasmablast? Higher count than IRF4\n",
    "compare_selected('IRF4', ighv3, ighv4)\n",
    "compare_selected('XBP1', ighv3, ighv4)"
   ]
  },
  {
   "cell_type": "markdown",
   "metadata": {},
   "source": [
    "### Memory B Cells\n",
    "Positive marker indicates memory b cell"
   ]
  },
  {
   "cell_type": "code",
   "execution_count": null,
   "metadata": {},
   "outputs": [
    {
     "name": "stdout",
     "output_type": "stream",
     "text": [
      "Selecting for TLR9...\n",
      "==========================\n",
      "TLR9     +        -       \n",
      "--------------------------\n",
      "IGHV3    79       4670    \n",
      "IGHV4    260      4166    \n",
      "==========================\n",
      "\n",
      "Selecting for NT5E...\n",
      "==========================\n",
      "NT5E     +        -       \n",
      "--------------------------\n",
      "IGHV3    433      4316    \n",
      "IGHV4    213      4213    \n",
      "==========================\n",
      "\n",
      "Selecting for LILRB1...\n",
      "==========================\n",
      "LILRB1   +        -       \n",
      "--------------------------\n",
      "IGHV3    793      3956    \n",
      "IGHV4    1016     3410    \n",
      "==========================\n",
      "\n",
      "Selecting for FCRL4...\n",
      "==========================\n",
      "FCRL4    +        -       \n",
      "--------------------------\n",
      "IGHV3    4        4745    \n",
      "IGHV4    211      4215    \n",
      "==========================\n",
      "\n"
     ]
    }
   ],
   "source": [
    "compare_selected('TLR9', ighv3, ighv4) # Memory B\n",
    "# compare_selected('TNFRSF13B', ighv3, ighv4) # Mature B, Memory B, Plasma Cell\n",
    "compare_selected('NT5E', ighv3, ighv4) # Memory B\n",
    "compare_selected('LILRB1', ighv3, ighv4) # Atypical Memory B\n",
    "compare_selected('FCRL4', ighv3, ighv4) # Atypical Memory B\n"
   ]
  },
  {
   "cell_type": "markdown",
   "metadata": {},
   "source": [
    "### Output file\n",
    "For visualization in Loupe Browser"
   ]
  },
  {
   "cell_type": "code",
   "execution_count": null,
   "metadata": {},
   "outputs": [],
   "source": [
    "# creates a csv that can be imported into loupe browser as a custom cluster\n",
    "# Combines IGHV3 and IGHV4 cells and shows LILRB1+ (atypical mbc), XBP1+ (pb), both +, or both -\n",
    "# in ighv3/ighv4 LILRB1, XBP1\n",
    "genes = ['XBP1', 'LILRB1']\n",
    "\n",
    "out = pd.DataFrame()\n",
    "out['Barcode'] = pd.concat([ighv3, ighv4], ignore_index=True)['cell_id']\n",
    "out['PB/MBC in IGHV3/4'] = ['negative']*len(out['Barcode'])\n",
    "out = out.drop_duplicates(ignore_index=True)\n",
    "# out.head()\n",
    "for gene in genes:\n",
    "    h3gene = select_gene(ighv3, gene)\n",
    "    h4gene = select_gene(ighv4, gene)\n",
    "    bothgenepos = pd.concat([h3gene[1], h4gene[1]], ignore_index=True)\n",
    "    \n",
    "    for i in range(len(out)):\n",
    "        if out.loc[i,'Barcode'] in bothgenepos['cell_id'].values:\n",
    "            if out.loc[i,'PB/MBC in IGHV3/4'] != 'negative':\n",
    "                out.loc[i,'PB/MBC in IGHV3/4'] = out.loc[i,'PB/MBC in IGHV3/4'] + '/' + gene\n",
    "            else:\n",
    "                out.loc[i,'PB/MBC in IGHV3/4'] = gene\n",
    "\n",
    "out.to_csv('PB&MBC in IGHV3&4.csv', index=False)\n"
   ]
  },
  {
   "cell_type": "code",
   "execution_count": 37,
   "metadata": {},
   "outputs": [],
   "source": [
    "create_clusters('PB/MBC in IGHV3/4', ['XBP1', 'LILRB1'], [ighv3, ighv4])"
   ]
  },
  {
   "cell_type": "markdown",
   "metadata": {},
   "source": [
    "# Scratch"
   ]
  },
  {
   "cell_type": "code",
   "execution_count": 30,
   "metadata": {},
   "outputs": [
    {
     "name": "stdout",
     "output_type": "stream",
     "text": [
      "130\n",
      "201\n",
      "829\n",
      "848\n",
      "1062\n",
      "1529\n",
      "1913\n",
      "1921\n",
      "1926\n",
      "1999\n",
      "2001\n",
      "2231\n",
      "2238\n",
      "3245\n",
      "3787\n",
      "3878\n",
      "4510\n"
     ]
    }
   ],
   "source": [
    "# find if barcode from ighv3 in ighv4  \n",
    "for i in range(len(ighv3)):\n",
    "    if ighv3.loc[i, 'cell_id'] in ighv4['cell_id'].values:\n",
    "        print(i)"
   ]
  },
  {
   "cell_type": "code",
   "execution_count": null,
   "metadata": {},
   "outputs": [],
   "source": [
    "cd19 = select_gene(gex, 'CD19') # cd19 +/-\n"
   ]
  },
  {
   "cell_type": "code",
   "execution_count": null,
   "metadata": {},
   "outputs": [],
   "source": [
    "cd27_cd19 = select_gene(cd19[1], 'CD27') # cd27 +/- given cd19+"
   ]
  },
  {
   "cell_type": "code",
   "execution_count": null,
   "metadata": {},
   "outputs": [],
   "source": [
    "\n",
    "cd38_cd27_cd19 = select_gene(cd27_cd19[1], 'CD38') # cd38 +/- given cd27+ given cd19+"
   ]
  },
  {
   "cell_type": "code",
   "execution_count": null,
   "metadata": {},
   "outputs": [],
   "source": [
    "cd38 = select_gene(gex, 'CD38')\n"
   ]
  },
  {
   "cell_type": "code",
   "execution_count": null,
   "metadata": {},
   "outputs": [],
   "source": [
    "len(cd38[1])"
   ]
  },
  {
   "cell_type": "code",
   "execution_count": 5,
   "metadata": {},
   "outputs": [],
   "source": [
    "# create df of irf4+ and vcall\n",
    "\n",
    "\n",
    "# create df of irf4- and vcall\n",
    "\n",
    "\n",
    "# count based on vcall"
   ]
  },
  {
   "cell_type": "code",
   "execution_count": 8,
   "metadata": {},
   "outputs": [],
   "source": [
    "# # setup\n",
    "# cell = pd.DataFrame({'cell_id':[],\n",
    "#                       'v_call':[]})\n",
    "\n",
    "# fam_dicts = dict([(e, None) for e in list(set([e[4] for e in vdj['v_call'].unique()]))])\n",
    "\n",
    "# cells = {'H':copy.deepcopy(fam_dicts),\n",
    "#          'K':copy.deepcopy(fam_dicts),\n",
    "#          'L':copy.deepcopy(fam_dicts)}\n",
    "\n",
    "# # sort cells by chain and family it to dict of dicts sub structure\n",
    "# for i in range(len(vdj['v_call'])):\n",
    "#     ig = vdj['v_call'][i][2:5]\n",
    "#     chain = ig[0]\n",
    "#     family = ig[-1]\n",
    "\n",
    "#     if type(cells[chain][family]) != type(pd.DataFrame()):\n",
    "#         cells[chain][family] = cell.copy(deep=True)\n",
    "    \n",
    "#     cells[chain][family].loc[i] = {'cell_id':vdj['cell_id'][i], \n",
    "#                                    'v_call':vdj['v_call'][i]}\n",
    "\n",
    "# # cells['H']['4']\n"
   ]
  }
 ],
 "metadata": {
  "kernelspec": {
   "display_name": "10X",
   "language": "python",
   "name": "python3"
  },
  "language_info": {
   "codemirror_mode": {
    "name": "ipython",
    "version": 3
   },
   "file_extension": ".py",
   "mimetype": "text/x-python",
   "name": "python",
   "nbconvert_exporter": "python",
   "pygments_lexer": "ipython3",
   "version": "3.11.11"
  }
 },
 "nbformat": 4,
 "nbformat_minor": 2
}
