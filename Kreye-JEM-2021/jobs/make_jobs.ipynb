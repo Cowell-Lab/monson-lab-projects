{
 "cells": [
  {
   "cell_type": "markdown",
   "id": "3be9cf26",
   "metadata": {},
   "source": [
    "# Imports"
   ]
  },
  {
   "cell_type": "code",
   "execution_count": 1,
   "id": "8ddd41db",
   "metadata": {},
   "outputs": [
    {
     "name": "stderr",
     "output_type": "stream",
     "text": [
      "/Users/s236922/code/apps/miniconda3/envs/xplor/lib/python3.13/site-packages/airr/schema.py:10: UserWarning: pkg_resources is deprecated as an API. See https://setuptools.pypa.io/en/latest/pkg_resources.html. The pkg_resources package is slated for removal as early as 2025-11-30. Refrain from using this package or pin to Setuptools<81.\n",
      "  from pkg_resources import resource_stream\n"
     ]
    }
   ],
   "source": [
    "import json\n",
    "import airr\n",
    "from make_jobs import create_vdjpipe_job_files\n",
    "from make_jobs import create_igblast_job_file\n",
    "from make_jobs import create_repcalc_job_file"
   ]
  },
  {
   "cell_type": "markdown",
   "id": "492009b5",
   "metadata": {},
   "source": [
    "# Data"
   ]
  },
  {
   "cell_type": "code",
   "execution_count": 2,
   "id": "cabaa7e3",
   "metadata": {},
   "outputs": [],
   "source": [
    "# VDJ Pipe\n",
    "project_id='894f4d4c-56f1-41b5-ae09-06fe14828f61'\n",
    "\n",
    "data = airr.read_airr('./repertoires.airr.json')"
   ]
  },
  {
   "cell_type": "markdown",
   "id": "8dd81808",
   "metadata": {},
   "source": [
    "# VDJ Pipe"
   ]
  },
  {
   "cell_type": "code",
   "execution_count": 3,
   "id": "db58849e",
   "metadata": {},
   "outputs": [],
   "source": [
    "# vdjpipe_jobs = create_vdjpipe_job_files(data, project_id, 'COVVAX')"
   ]
  },
  {
   "cell_type": "markdown",
   "id": "507ff257",
   "metadata": {},
   "source": [
    "# IgBlast"
   ]
  },
  {
   "cell_type": "code",
   "execution_count": 4,
   "id": "7a5a44d7",
   "metadata": {},
   "outputs": [],
   "source": [
    "igblast_job = create_igblast_job_file(\n",
    "    data=data,\n",
    "    project_id='894f4d4c-56f1-41b5-ae09-06fe14828f61',\n",
    "    job_id_dict=None,\n",
    "    project_name='Kreye-JEM-2021',\n",
    "    save=True\n",
    ")"
   ]
  },
  {
   "cell_type": "code",
   "execution_count": 17,
   "id": "f43d45b3",
   "metadata": {},
   "outputs": [
    {
     "data": {
      "text/plain": [
       "'positive.fasta'"
      ]
     },
     "execution_count": 17,
     "metadata": {},
     "output_type": "execute_result"
    }
   ],
   "source": [
    "data['Repertoire'][0]['sample'][0]['sequencing_files']['filename']"
   ]
  },
  {
   "cell_type": "code",
   "execution_count": null,
   "id": "4b01f111",
   "metadata": {},
   "outputs": [],
   "source": [
    "# job_uuid_dict = {\n",
    "#     '17' : '042a3a3b-3e36-4ad8-974e-56c496e09f60-007',\n",
    "#     '18' : '477a4a12-c9e3-43f1-9ece-410c9749f375-007',\n",
    "#     '19' : '1dabd696-fd52-4ec3-9c03-23a43add12ab-007',\n",
    "#     '20' : 'b47793f3-9959-4c00-94ad-4c24377deb0b-007',\n",
    "#     '22' : '1a9be174-00d4-427f-bf4a-9716ac566b53-007'\n",
    "#     # '17' : '7c6f533b-648c-48f0-b755-ca69fbfb7a67-007',\n",
    "#     # '18' : '006384d5-17e7-4063-8a81-0f1ade60f9cd-007',\n",
    "#     # '19' : 'cf9d976f-f329-4a12-b0bb-9bf7a0d66027-007',\n",
    "#     # '20' : '4b428d92-75c7-4974-89ac-5570ac88bccc-007',\n",
    "#     # '22' : '8a1a1a3b-32ba-4f3f-94a4-e9b58549f612-007'\n",
    "# }\n",
    "\n",
    "igblast_job = create_igblast_job_file(data, project_id, job_uuid_dict, 'COVVAX')"
   ]
  },
  {
   "cell_type": "markdown",
   "id": "ac733edb",
   "metadata": {},
   "source": [
    "# Repcalc"
   ]
  },
  {
   "cell_type": "code",
   "execution_count": 5,
   "id": "e3e1f2db",
   "metadata": {},
   "outputs": [],
   "source": [
    "job_id = 'e4513a1b-a267-4c1d-9f3d-35ed935f8f04-007'\n",
    "\n",
    "repcalc_job = create_repcalc_job_file(data, project_id, job_id, 'COVVAX')"
   ]
  },
  {
   "cell_type": "markdown",
   "id": "3907bf8a",
   "metadata": {},
   "source": [
    "# Scratch"
   ]
  },
  {
   "cell_type": "code",
   "execution_count": null,
   "id": "667e54ce",
   "metadata": {},
   "outputs": [],
   "source": [
    "\n",
    "# job_id='403ed03c-4b11-47f4-b8be-974c16185149-007'\n",
    "\n",
    "# vdjpipe jobs\n",
    "# {seq_run_id: job_uuid, ...}\n",
    "\n",
    "\n",
    "\n",
    "# lib_nums = set([rep['sample'][0]['sequencing_run_id'] for rep in data['Repertoire']])\n",
    "# file_names = ['job-COVVAX-test-library-'+lib_num+'.json' for lib_num in lib_nums]\n",
    "\n",
    "# json_contents = create_vdjpipe_job_files(data, project_id, False)"
   ]
  },
  {
   "cell_type": "code",
   "execution_count": null,
   "id": "ac836437",
   "metadata": {},
   "outputs": [
    {
     "ename": "TypeError",
     "evalue": "list.count() takes exactly one argument (0 given)",
     "output_type": "error",
     "traceback": [
      "\u001b[31m---------------------------------------------------------------------------\u001b[39m",
      "\u001b[31mTypeError\u001b[39m                                 Traceback (most recent call last)",
      "\u001b[36mCell\u001b[39m\u001b[36m \u001b[39m\u001b[32mIn[94]\u001b[39m\u001b[32m, line 1\u001b[39m\n\u001b[32m----> \u001b[39m\u001b[32m1\u001b[39m \u001b[43m[\u001b[49m\u001b[43mrep\u001b[49m\u001b[43m[\u001b[49m\u001b[33;43m'\u001b[39;49m\u001b[33;43msubject\u001b[39;49m\u001b[33;43m'\u001b[39;49m\u001b[43m]\u001b[49m\u001b[43m[\u001b[49m\u001b[33;43m'\u001b[39;49m\u001b[33;43msubject_id\u001b[39;49m\u001b[33;43m'\u001b[39;49m\u001b[43m]\u001b[49m\u001b[43m \u001b[49m\u001b[38;5;28;43;01mfor\u001b[39;49;00m\u001b[43m \u001b[49m\u001b[43mrep\u001b[49m\u001b[43m \u001b[49m\u001b[38;5;129;43;01min\u001b[39;49;00m\u001b[43m \u001b[49m\u001b[43mdata\u001b[49m\u001b[43m[\u001b[49m\u001b[33;43m'\u001b[39;49m\u001b[33;43mRepertoire\u001b[39;49m\u001b[33;43m'\u001b[39;49m\u001b[43m]\u001b[49m\u001b[43m]\u001b[49m\u001b[43m.\u001b[49m\u001b[43mcount\u001b[49m\u001b[43m(\u001b[49m\u001b[43m)\u001b[49m\n",
      "\u001b[31mTypeError\u001b[39m: list.count() takes exactly one argument (0 given)"
     ]
    }
   ],
   "source": [
    "def find_duplicates(reps):\n",
    "    seen = set(reps['subjects'])\n",
    "    duplicates = set()\n",
    "    for item in reps:\n",
    "        if item in seen:\n",
    "            duplicates.add(item)\n",
    "        else:\n",
    "            seen.add(item)\n",
    "    return list(duplicates)\n",
    "\n",
    "find_duplicates(data['Repertoire'])"
   ]
  }
 ],
 "metadata": {
  "kernelspec": {
   "display_name": "xplor",
   "language": "python",
   "name": "python3"
  },
  "language_info": {
   "codemirror_mode": {
    "name": "ipython",
    "version": 3
   },
   "file_extension": ".py",
   "mimetype": "text/x-python",
   "name": "python",
   "nbconvert_exporter": "python",
   "pygments_lexer": "ipython3",
   "version": "3.13.5"
  }
 },
 "nbformat": 4,
 "nbformat_minor": 5
}
