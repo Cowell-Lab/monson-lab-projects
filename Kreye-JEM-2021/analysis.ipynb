{
 "cells": [
  {
   "cell_type": "code",
   "execution_count": 163,
   "id": "2b78faa8",
   "metadata": {},
   "outputs": [],
   "source": [
    "import pandas as pd\n",
    "from Bio import SeqIO\n",
    "import os"
   ]
  },
  {
   "cell_type": "markdown",
   "id": "05357fd0",
   "metadata": {},
   "source": [
    "# Import Data"
   ]
  },
  {
   "cell_type": "code",
   "execution_count": 155,
   "id": "8d49673f",
   "metadata": {},
   "outputs": [],
   "source": [
    "# file path\n",
    "data_dir = '/Users/s236922/code/data/Kreye-JEM-2021/'\n",
    "meta_data = pd.read_excel(f'{data_dir}/input/aBASE.xlsm', header=1)\n",
    "\n",
    "# RhABs of interest (from patient ID 113)\n",
    "pos_rhabs = [101, 115, 175, 198, 201]\n",
    "neg_rhabs = [e for e in meta_data['Event No'] if e not in pos_rhabs]\n",
    "all_rhabs = pos_rhabs + neg_rhabs"
   ]
  },
  {
   "cell_type": "markdown",
   "id": "9486c392",
   "metadata": {},
   "source": [
    "# Conver selected files"
   ]
  },
  {
   "cell_type": "code",
   "execution_count": 173,
   "id": "b9493716",
   "metadata": {},
   "outputs": [
    {
     "data": {
      "text/html": [
       "<div>\n",
       "<style scoped>\n",
       "    .dataframe tbody tr th:only-of-type {\n",
       "        vertical-align: middle;\n",
       "    }\n",
       "\n",
       "    .dataframe tbody tr th {\n",
       "        vertical-align: top;\n",
       "    }\n",
       "\n",
       "    .dataframe thead th {\n",
       "        text-align: right;\n",
       "    }\n",
       "</style>\n",
       "<table border=\"1\" class=\"dataframe\">\n",
       "  <thead>\n",
       "    <tr style=\"text-align: right;\">\n",
       "      <th></th>\n",
       "      <th>Event No</th>\n",
       "      <th>Seq</th>\n",
       "      <th>Seq_ID</th>\n",
       "      <th>Seq_ID.1</th>\n",
       "      <th>Seq_ID.2</th>\n",
       "    </tr>\n",
       "  </thead>\n",
       "  <tbody>\n",
       "    <tr>\n",
       "      <th>0</th>\n",
       "      <td>101</td>\n",
       "      <td>H/L</td>\n",
       "      <td>88FJ02_C05</td>\n",
       "      <td>NaN</td>\n",
       "      <td>88FJ01_H06</td>\n",
       "    </tr>\n",
       "    <tr>\n",
       "      <th>1</th>\n",
       "      <td>115</td>\n",
       "      <td>H/L</td>\n",
       "      <td>88FJ02_D01</td>\n",
       "      <td>NaN</td>\n",
       "      <td>88FJ01_H11</td>\n",
       "    </tr>\n",
       "    <tr>\n",
       "      <th>2</th>\n",
       "      <td>175</td>\n",
       "      <td>H/K</td>\n",
       "      <td>88FJ00_D06</td>\n",
       "      <td>88FJ00_H04</td>\n",
       "      <td>NaN</td>\n",
       "    </tr>\n",
       "    <tr>\n",
       "      <th>3</th>\n",
       "      <td>198</td>\n",
       "      <td>H/K</td>\n",
       "      <td>88FJ00_E05</td>\n",
       "      <td>88FI11</td>\n",
       "      <td>NaN</td>\n",
       "    </tr>\n",
       "    <tr>\n",
       "      <th>4</th>\n",
       "      <td>201</td>\n",
       "      <td>H/K</td>\n",
       "      <td>88FJ00_E06</td>\n",
       "      <td>88FI12</td>\n",
       "      <td>NaN</td>\n",
       "    </tr>\n",
       "  </tbody>\n",
       "</table>\n",
       "</div>"
      ],
      "text/plain": [
       "   Event No  Seq      Seq_ID    Seq_ID.1    Seq_ID.2\n",
       "0       101  H/L  88FJ02_C05         NaN  88FJ01_H06\n",
       "1       115  H/L  88FJ02_D01         NaN  88FJ01_H11\n",
       "2       175  H/K  88FJ00_D06  88FJ00_H04         NaN\n",
       "3       198  H/K  88FJ00_E05      88FI11         NaN\n",
       "4       201  H/K  88FJ00_E06      88FI12         NaN"
      ]
     },
     "execution_count": 173,
     "metadata": {},
     "output_type": "execute_result"
    }
   ],
   "source": [
    "# find file names from meta_data\n",
    "# Seq_ID = Heavy\n",
    "# Seq_ID.1 = Kappa\n",
    "# Seq_ID.2 = Lambda\n",
    "selected = meta_data[meta_data['Event No'].isin(pos_rhabs)].loc[:,['Event No', 'Seq', 'Seq_ID', 'Seq_ID.1', 'Seq_ID.2']].reset_index(drop=True)\n",
    "selected"
   ]
  },
  {
   "cell_type": "code",
   "execution_count": 129,
   "id": "c3a34569",
   "metadata": {},
   "outputs": [
    {
     "name": "stdout",
     "output_type": "stream",
     "text": [
      "[101, 115, 175, 198, 201]\n"
     ]
    }
   ],
   "source": [
    "print([e for e in selected['Event No']])"
   ]
  },
  {
   "cell_type": "code",
   "execution_count": null,
   "id": "3e317670",
   "metadata": {},
   "outputs": [
    {
     "name": "stdout",
     "output_type": "stream",
     "text": [
      "   Event No  Seq      Seq_ID Seq_ID.1    Seq_ID.2\n",
      "0       101  H/L  88FJ02_C05      NaN  88FJ01_H06\n",
      "H/L\n",
      "Converted 1 records\n",
      "Converted 1 records\n",
      "   Event No  Seq      Seq_ID Seq_ID.1    Seq_ID.2\n",
      "0       115  H/L  88FJ02_D01      NaN  88FJ01_H11\n",
      "H/L\n",
      "Converted 1 records\n",
      "Converted 1 records\n",
      "   Event No  Seq      Seq_ID    Seq_ID.1 Seq_ID.2\n",
      "0       175  H/K  88FJ00_D06  88FJ00_H04      NaN\n",
      "H/K\n",
      "Converted 1 records\n",
      "Converted 1 records\n",
      "   Event No  Seq      Seq_ID Seq_ID.1 Seq_ID.2\n",
      "0       198  H/K  88FJ00_E05   88FI11      NaN\n",
      "H/K\n",
      "Converted 1 records\n",
      "Converted 1 records\n",
      "   Event No  Seq      Seq_ID Seq_ID.1 Seq_ID.2\n",
      "0       201  H/K  88FJ00_E06   88FI12      NaN\n",
      "H/K\n",
      "Converted 1 records\n",
      "Converted 1 records\n"
     ]
    }
   ],
   "source": [
    "# convert ab1 to fasta\n",
    "output_path = f\"{data_dir}SeqData-fasta/all-pos.fasta\"\n",
    "if os.path.exists(output_path):\n",
    "    os.remove(output_path)\n",
    "\n",
    "for event_no in selected['Event No']:\n",
    "    e = selected[selected['Event No'] == event_no].reset_index(drop=True)\n",
    "    print(e)\n",
    "    print(e['Seq'][0])\n",
    "\n",
    "    if e['Seq'][0] == 'x':\n",
    "        continue\n",
    "    \n",
    "    chains = e['Seq'][0].split('/')\n",
    "    for chain in chains:\n",
    "        if chain == 'H':\n",
    "            seq = e['Seq_ID']\n",
    "            chain_type = 'heavy'\n",
    "        elif chain == 'K':\n",
    "            seq = e['Seq_ID.1']\n",
    "            chain_type = 'kappa'\n",
    "        elif chain == 'L':\n",
    "            seq = e['Seq_ID.2']\n",
    "            chain_type = 'lambda'\n",
    "        seq = seq[0]\n",
    "        with open(f\"{data_dir}SeqData/{seq}.ab1\", 'b+r') as input_handle, open(output_path, \"a\") as output_handle:\n",
    "            sequences = []\n",
    "            for record in SeqIO.parse(input_handle, \"abi\"):\n",
    "                # Customize the FASTA header\n",
    "                record.id = f\"113-{e['Event No'][0]}.{chain_type}.{seq}\"\n",
    "                # record.description = f\"Custom description for {seq}, event {e['Event No'][0]}, chain {chain_type}\"\n",
    "                sequences.append(record)\n",
    "            \n",
    "            # sequences = SeqIO.parse(input_handle, \"abi\")\n",
    "            count = SeqIO.write(sequences, output_handle, \"fasta\")\n",
    "            print(\"Converted %i records\" % count)"
   ]
  },
  {
   "cell_type": "code",
   "execution_count": null,
   "id": "0889dc1f",
   "metadata": {},
   "outputs": [],
   "source": []
  },
  {
   "cell_type": "code",
   "execution_count": null,
   "id": "494fee09",
   "metadata": {},
   "outputs": [],
   "source": []
  }
 ],
 "metadata": {
  "kernelspec": {
   "display_name": "xplor",
   "language": "python",
   "name": "python3"
  },
  "language_info": {
   "codemirror_mode": {
    "name": "ipython",
    "version": 3
   },
   "file_extension": ".py",
   "mimetype": "text/x-python",
   "name": "python",
   "nbconvert_exporter": "python",
   "pygments_lexer": "ipython3",
   "version": "3.13.5"
  }
 },
 "nbformat": 4,
 "nbformat_minor": 5
}
