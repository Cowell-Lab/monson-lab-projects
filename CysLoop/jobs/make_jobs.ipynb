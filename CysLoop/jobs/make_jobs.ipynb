{
 "cells": [
  {
   "cell_type": "markdown",
   "id": "e50db0d9",
   "metadata": {},
   "source": [
    "# Imports"
   ]
  },
  {
   "cell_type": "code",
   "execution_count": 1,
   "id": "bc28f6a0",
   "metadata": {},
   "outputs": [
    {
     "name": "stderr",
     "output_type": "stream",
     "text": [
      "/Users/s236922/code/apps/miniconda3/envs/airr/lib/python3.13/site-packages/airr/schema.py:10: UserWarning: pkg_resources is deprecated as an API. See https://setuptools.pypa.io/en/latest/pkg_resources.html. The pkg_resources package is slated for removal as early as 2025-11-30. Refrain from using this package or pin to Setuptools<81.\n",
      "  from pkg_resources import resource_stream\n"
     ]
    }
   ],
   "source": [
    "import airr\n",
    "# from make_jobs import create_igblast_job_file\n",
    "from make_jobs import create_igblast_job_file_from_fasta\n",
    "from make_jobs import create_repcalc_job_file"
   ]
  },
  {
   "cell_type": "markdown",
   "id": "48eaa67a",
   "metadata": {},
   "source": [
    "# Data"
   ]
  },
  {
   "cell_type": "code",
   "execution_count": 3,
   "id": "b0faf386",
   "metadata": {},
   "outputs": [],
   "source": [
    "project_id = 'bb436002-9fd5-43c0-817e-a742d77f3f90'\n",
    "\n",
    "data = airr.read_airr('../repertoires.airr.json')"
   ]
  },
  {
   "cell_type": "markdown",
   "id": "7b0ca319",
   "metadata": {},
   "source": [
    "# IgBlast"
   ]
  },
  {
   "cell_type": "code",
   "execution_count": 4,
   "id": "10af0db1",
   "metadata": {},
   "outputs": [],
   "source": [
    "rep_id = data['Repertoire'][0]['repertoire_id']\n",
    "file_type = data['Repertoire'][0]['sample'][0]['sequencing_files']['file_type']\n",
    "filename = data['Repertoire'][0]['sample'][0]['sequencing_files']['filename']"
   ]
  },
  {
   "cell_type": "code",
   "execution_count": 5,
   "id": "46f56723",
   "metadata": {},
   "outputs": [],
   "source": [
    "igblast_job = create_igblast_job_file_from_fasta(data, project_id, 'CysLoop')"
   ]
  },
  {
   "cell_type": "markdown",
   "id": "eaa44fda",
   "metadata": {},
   "source": [
    "# RepCalc"
   ]
  },
  {
   "cell_type": "code",
   "execution_count": 5,
   "id": "862d24ec",
   "metadata": {},
   "outputs": [],
   "source": [
    "job_id = '3ec8bcc8-db20-4a8e-965e-e8587914dca8-007'\n",
    "\n",
    "repcalc_job = create_repcalc_job_file(data, project_id, job_id, 'CysLoop')"
   ]
  },
  {
   "cell_type": "code",
   "execution_count": null,
   "id": "720e9e0c",
   "metadata": {},
   "outputs": [],
   "source": []
  }
 ],
 "metadata": {
  "kernelspec": {
   "display_name": "airr",
   "language": "python",
   "name": "python3"
  },
  "language_info": {
   "codemirror_mode": {
    "name": "ipython",
    "version": 3
   },
   "file_extension": ".py",
   "mimetype": "text/x-python",
   "name": "python",
   "nbconvert_exporter": "python",
   "pygments_lexer": "ipython3",
   "version": "3.13.3"
  }
 },
 "nbformat": 4,
 "nbformat_minor": 5
}
