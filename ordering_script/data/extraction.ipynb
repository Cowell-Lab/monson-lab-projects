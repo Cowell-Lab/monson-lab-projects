{
 "cells": [
  {
   "cell_type": "markdown",
   "metadata": {},
   "source": [
    "Used to generate the `genes_v_call.csv`. Can be used in the future to regenerate the v call genes."
   ]
  },
  {
   "cell_type": "code",
   "execution_count": 2,
   "metadata": {},
   "outputs": [],
   "source": [
    "import pandas as pd"
   ]
  },
  {
   "cell_type": "code",
   "execution_count": 3,
   "metadata": {},
   "outputs": [],
   "source": [
    "df = pd.read_excel('./rhAb IDT Order for KV22-YW 06202024.xlsm', sheet_name=None)"
   ]
  },
  {
   "cell_type": "code",
   "execution_count": 16,
   "metadata": {},
   "outputs": [],
   "source": [
    "pd.concat([df['VK SEQ FR1&4'].loc[:,['VK-FR1',\"3' REGION 22-24\"]].rename(columns={'VK-FR1':'v_call',\n",
    "                                                                                  \"3' REGION 22-24\":'var'}),\n",
    "           df['VL SEQ FR1&4'].loc[:,['VL-FR1',\"3' REGION 22-24\"]].rename(columns={'VL-FR1':'v_call',\n",
    "                                                                                  \"3' REGION 22-24\":'var'})])\\\n",
    "  .to_csv('./genes_v_call.csv')                                     "
   ]
  }
 ],
 "metadata": {
  "kernelspec": {
   "display_name": "ordering",
   "language": "python",
   "name": "python3"
  },
  "language_info": {
   "codemirror_mode": {
    "name": "ipython",
    "version": 3
   },
   "file_extension": ".py",
   "mimetype": "text/x-python",
   "name": "python",
   "nbconvert_exporter": "python",
   "pygments_lexer": "ipython3",
   "version": "3.13.0"
  }
 },
 "nbformat": 4,
 "nbformat_minor": 2
}
